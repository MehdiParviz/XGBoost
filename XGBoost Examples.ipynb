{
 "cells": [
  {
   "cell_type": "code",
   "execution_count": 3,
   "metadata": {},
   "outputs": [
    {
     "name": "stderr",
     "output_type": "stream",
     "text": [
      "C:\\Users\\mpar0031\\Work\\Softwares\\WPy64-3830\\python-3.8.3.amd64\\lib\\site-packages\\xgboost\\sklearn.py:888: UserWarning: The use of label encoder in XGBClassifier is deprecated and will be removed in a future release. To remove this warning, do the following: 1) Pass option use_label_encoder=False when constructing XGBClassifier object; and 2) Encode your labels (y) as integers starting with 0, i.e. 0, 1, 2, ..., [num_class - 1].\n",
      "  warnings.warn(label_encoder_deprecation_msg, UserWarning)\n"
     ]
    },
    {
     "name": "stdout",
     "output_type": "stream",
     "text": [
      "[16:51:03] WARNING: C:/Users/Administrator/workspace/xgboost-win64_release_1.3.0/src/learner.cc:1061: Starting in XGBoost 1.3.0, the default evaluation metric used with the objective 'multi:softprob' was changed from 'merror' to 'mlogloss'. Explicitly set eval_metric if you'd like to restore the old behavior.\n",
      "Accuracy: 63.32%\n"
     ]
    },
    {
     "name": "stderr",
     "output_type": "stream",
     "text": [
      "C:\\Users\\mpar0031\\Work\\Softwares\\WPy64-3830\\python-3.8.3.amd64\\lib\\site-packages\\sklearn\\metrics\\_classification.py:1987: UserWarning: y_pred contains classes not in y_true\n",
      "  warnings.warn(\"y_pred contains classes not in y_true\")\n"
     ]
    }
   ],
   "source": [
    "#import xgboost as xgb\n",
    "#from sklearn import datasets\n",
    "import pandas as pd\n",
    "import numpy as np\n",
    "from sklearn.model_selection import train_test_split\n",
    "from sklearn.preprocessing import LabelEncoder, OneHotEncoder \n",
    "from xgboost import XGBClassifier\n",
    "from sklearn.metrics import accuracy_score, balanced_accuracy_score\n",
    "from sklearn.utils import class_weight\n",
    "\n",
    "\n",
    "data_path = 'C:/Users/mpar0031/Work/Data/Tabular/'\n",
    "fn = 'arrhythmia.data'\n",
    "#var_names = 'arrhythmia.names'\n",
    "df = pd.read_csv(data_path + fn, header=None)\n",
    "\n",
    "# last column is the class label\n",
    "X = df.iloc[:,:-1]\n",
    "\n",
    "numeric_features = []\n",
    "categorical_features = []\n",
    "for col in X.columns:\n",
    "    dt = X[col].dtype\n",
    "    if dt == 'object':\n",
    "        X[col] = X[col].fillna('NA')\n",
    "        categorical_features.append(col)\n",
    "    else:\n",
    "        numeric_features.append(col)\n",
    "\n",
    "cat_coder = OneHotEncoder()\n",
    "X_cat = X.loc[:, categorical_features]\n",
    "X_cat.columns = 'CAT_' + X_cat.columns.astype(str)\n",
    "categorical_features = list(X_cat.columns)\n",
    "X_cat = cat_coder.fit_transform(X_cat)\n",
    "cat_feat_names = cat_coder.get_feature_names_out(categorical_features)\n",
    "\n",
    "X = df.loc[:, numeric_features]  \n",
    "X = pd.concat([X, pd.DataFrame(X_cat.todense(), columns=cat_feat_names)], axis=1)\n",
    "y = df.iloc[:,-1]\n",
    "X_train, X_test, y_train, y_test = train_test_split(X, y, test_size=0.20, random_state=11)\n",
    "lc = LabelEncoder() \n",
    "lc = lc.fit(y) \n",
    "lc_y = lc.transform(y)\n",
    "\n",
    "classes_weights = class_weight.compute_sample_weight(class_weight='balanced', y=y_train)\n",
    "model = XGBClassifier(objective='multi:softmax', n_estimators=100, \n",
    "                      max_depth=3, subsample=0.9, learning_rate=0.1, \n",
    "                      reg_alpha=0.001, reg_lambda=0.001, gamma=2, \n",
    "                      min_child_weight=8)\n",
    "\n",
    "model.fit(X_train, y_train, sample_weight=classes_weights)\n",
    "y_pred = model.predict(X_test) \n",
    "predictions = [round(value) for value in y_pred]\n",
    "accuracy = balanced_accuracy_score(y_test, predictions) \n",
    "\n",
    "print(\"Accuracy: %.2f%%\" % (accuracy * 100.0))"
   ]
  },
  {
   "cell_type": "code",
   "execution_count": null,
   "metadata": {},
   "outputs": [],
   "source": []
  }
 ],
 "metadata": {
  "kernelspec": {
   "display_name": "Python 3",
   "language": "python",
   "name": "python3"
  },
  "language_info": {
   "codemirror_mode": {
    "name": "ipython",
    "version": 3
   },
   "file_extension": ".py",
   "mimetype": "text/x-python",
   "name": "python",
   "nbconvert_exporter": "python",
   "pygments_lexer": "ipython3",
   "version": "3.8.3"
  }
 },
 "nbformat": 4,
 "nbformat_minor": 4
}
